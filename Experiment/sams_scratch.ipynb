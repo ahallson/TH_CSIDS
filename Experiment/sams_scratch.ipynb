{
 "cells": [
  {
   "cell_type": "code",
   "execution_count": 1,
   "metadata": {},
   "outputs": [
    {
     "name": "stderr",
     "output_type": "stream",
     "text": [
      "NoConsoleScreenBufferError\n",
      "Traceback (most recent call last):\n",
      "  File \"C:\\Users\\SJMac\\OpenBBTerminal\\openbb_terminal\\menu.py\", line 25, in <module>\n",
      "    session = PromptSession(history=FileHistory(history_file))  # type: ignore\n",
      "  File \"c:\\Users\\SJMac\\anaconda3\\envs\\obb\\lib\\site-packages\\prompt_toolkit\\shortcuts\\prompt.py\", line 476, in __init__\n",
      "    self.app = self._create_application(editing_mode, erase_when_done)\n",
      "  File \"c:\\Users\\SJMac\\anaconda3\\envs\\obb\\lib\\site-packages\\prompt_toolkit\\shortcuts\\prompt.py\", line 727, in _create_application\n",
      "    application: Application[_T] = Application(\n",
      "  File \"c:\\Users\\SJMac\\anaconda3\\envs\\obb\\lib\\site-packages\\prompt_toolkit\\application\\application.py\", line 281, in __init__\n",
      "    self.output = output or session.output\n",
      "  File \"c:\\Users\\SJMac\\anaconda3\\envs\\obb\\lib\\site-packages\\prompt_toolkit\\application\\current.py\", line 71, in output\n",
      "    self._output = create_output()\n",
      "  File \"c:\\Users\\SJMac\\anaconda3\\envs\\obb\\lib\\site-packages\\prompt_toolkit\\output\\defaults.py\", line 85, in create_output\n",
      "    return Win32Output(stdout, default_color_depth=color_depth_from_env)\n",
      "  File \"c:\\Users\\SJMac\\anaconda3\\envs\\obb\\lib\\site-packages\\prompt_toolkit\\output\\win32.py\", line 114, in __init__\n",
      "    info = self.get_win32_screen_buffer_info()\n",
      "  File \"c:\\Users\\SJMac\\anaconda3\\envs\\obb\\lib\\site-packages\\prompt_toolkit\\output\\win32.py\", line 218, in get_win32_screen_buffer_info\n",
      "    raise NoConsoleScreenBufferError\n",
      "prompt_toolkit.output.win32.NoConsoleScreenBufferError: Found xterm-color, while expecting a Windows console. Maybe try to run this program using \"winpty\" or run it in cmd.exe instead. Or otherwise, in case of Cygwin, use the Python executable that is compiled for Cygwin.\n"
     ]
    },
    {
     "name": "stdout",
     "output_type": "stream",
     "text": [
      "WARNING: Prompt toolkit is turned on but did not initialize successfully. Falling back to input()...\n"
     ]
    }
   ],
   "source": [
    "import yahooquery as yq\n",
    "import yfinance as yf\n",
    "import pandas as pd\n",
    "import sys\n",
    "import datetime\n",
    "\n",
    "# setting path\n",
    "sys.path.append('../OpenBBTerminal-main/')\n",
    "# import terminal\n",
    "from openbb_terminal.portfolio import portfolio_model\n",
    "from openbb_terminal.portfolio import portfolio_controller\n",
    "# from openbb_terminal.portfolio import attribution_model\n",
    "\n",
    "sys.path.append('../OpenBBTerminal-main/openbb_terminal/')\n",
    "\n",
    "from portfolio import attribution_model\n",
    "\n"
   ]
  },
  {
   "cell_type": "code",
   "execution_count": 6,
   "metadata": {},
   "outputs": [],
   "source": [
    "file_location = \"C:\\Repositories\\TH_CSIDS\\OpenBBTerminal-main\\portfolio\\holdings\\Public_Equity_Orderbook.xlsx\"\n",
    "# file_location = \"C:\\Repositories\\TH_CSIDS\\OpenBBTerminal-main\\portfolio\\holdings\\pf_attirb_qa_2.xlsx\"\n",
    "\n",
    "\n",
    "orderbook = portfolio_model.PortfolioModel.read_orderbook(\n",
    "                str(file_location)\n",
    "            )\n",
    "# start_date = orderbook['Date'][0]\n",
    "start_date = \"2022-07-28\"\n",
    "start_date_orig = datetime.datetime(2022,7,28)"
   ]
  },
  {
   "cell_type": "code",
   "execution_count": 7,
   "metadata": {},
   "outputs": [
    {
     "ename": "TypeError",
     "evalue": "'<' not supported between instances of 'datetime.date' and 'str'",
     "output_type": "error",
     "traceback": [
      "\u001b[1;31m---------------------------------------------------------------------------\u001b[0m",
      "\u001b[1;31mTypeError\u001b[0m                                 Traceback (most recent call last)",
      "\u001b[1;32mc:\\Repositories\\TH_CSIDS\\Experiment\\sams_scratch.ipynb Cell 3\u001b[0m in \u001b[0;36m<cell line: 1>\u001b[1;34m()\u001b[0m\n\u001b[1;32m----> <a href='vscode-notebook-cell:/c%3A/Repositories/TH_CSIDS/Experiment/sams_scratch.ipynb#W2sZmlsZQ%3D%3D?line=0'>1</a>\u001b[0m attribution_model\u001b[39m.\u001b[39;49mget_portfolio_sector_contributions_original(start_date, orderbook)\n",
      "File \u001b[1;32mc:\\Repositories\\TH_CSIDS\\Experiment\\../OpenBBTerminal-main/openbb_terminal\\portfolio\\attribution_model.py:234\u001b[0m, in \u001b[0;36mget_portfolio_sector_contributions_original\u001b[1;34m(start_date, portfolio_trades)\u001b[0m\n\u001b[0;32m    232\u001b[0m \u001b[39m# filter passed off desired date here \u001b[39;00m\n\u001b[0;32m    233\u001b[0m df[\u001b[39m\"\u001b[39m\u001b[39mdate\u001b[39m\u001b[39m\"\u001b[39m] \u001b[39m=\u001b[39m df[\u001b[39m\"\u001b[39m\u001b[39mdate\u001b[39m\u001b[39m\"\u001b[39m]\u001b[39m.\u001b[39mdt\u001b[39m.\u001b[39mdate\n\u001b[1;32m--> 234\u001b[0m df \u001b[39m=\u001b[39m df[\u001b[39m~\u001b[39m(df[\u001b[39m\"\u001b[39;49m\u001b[39mdate\u001b[39;49m\u001b[39m\"\u001b[39;49m] \u001b[39m<\u001b[39;49m start_date)]\n\u001b[0;32m    236\u001b[0m \u001b[39m# get desired output \u001b[39;00m\n\u001b[0;32m    237\u001b[0m df[\u001b[39m\"\u001b[39m\u001b[39madj_close\u001b[39m\u001b[39m\"\u001b[39m]\u001b[39m.\u001b[39mfillna(\u001b[39m0\u001b[39m, inplace\u001b[39m=\u001b[39m\u001b[39mTrue\u001b[39;00m)\n",
      "File \u001b[1;32mc:\\Users\\SJMac\\anaconda3\\envs\\obb\\lib\\site-packages\\pandas\\core\\ops\\common.py:70\u001b[0m, in \u001b[0;36m_unpack_zerodim_and_defer.<locals>.new_method\u001b[1;34m(self, other)\u001b[0m\n\u001b[0;32m     66\u001b[0m             \u001b[39mreturn\u001b[39;00m \u001b[39mNotImplemented\u001b[39m\n\u001b[0;32m     68\u001b[0m other \u001b[39m=\u001b[39m item_from_zerodim(other)\n\u001b[1;32m---> 70\u001b[0m \u001b[39mreturn\u001b[39;00m method(\u001b[39mself\u001b[39;49m, other)\n",
      "File \u001b[1;32mc:\\Users\\SJMac\\anaconda3\\envs\\obb\\lib\\site-packages\\pandas\\core\\arraylike.py:48\u001b[0m, in \u001b[0;36mOpsMixin.__lt__\u001b[1;34m(self, other)\u001b[0m\n\u001b[0;32m     46\u001b[0m \u001b[39m@unpack_zerodim_and_defer\u001b[39m(\u001b[39m\"\u001b[39m\u001b[39m__lt__\u001b[39m\u001b[39m\"\u001b[39m)\n\u001b[0;32m     47\u001b[0m \u001b[39mdef\u001b[39;00m \u001b[39m__lt__\u001b[39m(\u001b[39mself\u001b[39m, other):\n\u001b[1;32m---> 48\u001b[0m     \u001b[39mreturn\u001b[39;00m \u001b[39mself\u001b[39;49m\u001b[39m.\u001b[39;49m_cmp_method(other, operator\u001b[39m.\u001b[39;49mlt)\n",
      "File \u001b[1;32mc:\\Users\\SJMac\\anaconda3\\envs\\obb\\lib\\site-packages\\pandas\\core\\series.py:5623\u001b[0m, in \u001b[0;36mSeries._cmp_method\u001b[1;34m(self, other, op)\u001b[0m\n\u001b[0;32m   5620\u001b[0m rvalues \u001b[39m=\u001b[39m extract_array(other, extract_numpy\u001b[39m=\u001b[39m\u001b[39mTrue\u001b[39;00m, extract_range\u001b[39m=\u001b[39m\u001b[39mTrue\u001b[39;00m)\n\u001b[0;32m   5622\u001b[0m \u001b[39mwith\u001b[39;00m np\u001b[39m.\u001b[39merrstate(\u001b[39mall\u001b[39m\u001b[39m=\u001b[39m\u001b[39m\"\u001b[39m\u001b[39mignore\u001b[39m\u001b[39m\"\u001b[39m):\n\u001b[1;32m-> 5623\u001b[0m     res_values \u001b[39m=\u001b[39m ops\u001b[39m.\u001b[39;49mcomparison_op(lvalues, rvalues, op)\n\u001b[0;32m   5625\u001b[0m \u001b[39mreturn\u001b[39;00m \u001b[39mself\u001b[39m\u001b[39m.\u001b[39m_construct_result(res_values, name\u001b[39m=\u001b[39mres_name)\n",
      "File \u001b[1;32mc:\\Users\\SJMac\\anaconda3\\envs\\obb\\lib\\site-packages\\pandas\\core\\ops\\array_ops.py:283\u001b[0m, in \u001b[0;36mcomparison_op\u001b[1;34m(left, right, op)\u001b[0m\n\u001b[0;32m    280\u001b[0m     \u001b[39mreturn\u001b[39;00m invalid_comparison(lvalues, rvalues, op)\n\u001b[0;32m    282\u001b[0m \u001b[39melif\u001b[39;00m is_object_dtype(lvalues\u001b[39m.\u001b[39mdtype) \u001b[39mor\u001b[39;00m \u001b[39misinstance\u001b[39m(rvalues, \u001b[39mstr\u001b[39m):\n\u001b[1;32m--> 283\u001b[0m     res_values \u001b[39m=\u001b[39m comp_method_OBJECT_ARRAY(op, lvalues, rvalues)\n\u001b[0;32m    285\u001b[0m \u001b[39melse\u001b[39;00m:\n\u001b[0;32m    286\u001b[0m     res_values \u001b[39m=\u001b[39m _na_arithmetic_op(lvalues, rvalues, op, is_cmp\u001b[39m=\u001b[39m\u001b[39mTrue\u001b[39;00m)\n",
      "File \u001b[1;32mc:\\Users\\SJMac\\anaconda3\\envs\\obb\\lib\\site-packages\\pandas\\core\\ops\\array_ops.py:73\u001b[0m, in \u001b[0;36mcomp_method_OBJECT_ARRAY\u001b[1;34m(op, x, y)\u001b[0m\n\u001b[0;32m     71\u001b[0m     result \u001b[39m=\u001b[39m libops\u001b[39m.\u001b[39mvec_compare(x\u001b[39m.\u001b[39mravel(), y\u001b[39m.\u001b[39mravel(), op)\n\u001b[0;32m     72\u001b[0m \u001b[39melse\u001b[39;00m:\n\u001b[1;32m---> 73\u001b[0m     result \u001b[39m=\u001b[39m libops\u001b[39m.\u001b[39;49mscalar_compare(x\u001b[39m.\u001b[39;49mravel(), y, op)\n\u001b[0;32m     74\u001b[0m \u001b[39mreturn\u001b[39;00m result\u001b[39m.\u001b[39mreshape(x\u001b[39m.\u001b[39mshape)\n",
      "File \u001b[1;32mc:\\Users\\SJMac\\anaconda3\\envs\\obb\\lib\\site-packages\\pandas\\_libs\\ops.pyx:107\u001b[0m, in \u001b[0;36mpandas._libs.ops.scalar_compare\u001b[1;34m()\u001b[0m\n",
      "\u001b[1;31mTypeError\u001b[0m: '<' not supported between instances of 'datetime.date' and 'str'"
     ]
    }
   ],
   "source": [
    "attribution_model.get_portfolio_sector_contributions_original(start_date_orig, orderbook)\n"
   ]
  },
  {
   "cell_type": "code",
   "execution_count": 8,
   "metadata": {},
   "outputs": [
    {
     "data": {
      "text/html": [
       "<div>\n",
       "<style scoped>\n",
       "    .dataframe tbody tr th:only-of-type {\n",
       "        vertical-align: middle;\n",
       "    }\n",
       "\n",
       "    .dataframe tbody tr th {\n",
       "        vertical-align: top;\n",
       "    }\n",
       "\n",
       "    .dataframe thead th {\n",
       "        text-align: right;\n",
       "    }\n",
       "</style>\n",
       "<table border=\"1\" class=\"dataframe\">\n",
       "  <thead>\n",
       "    <tr style=\"text-align: right;\">\n",
       "      <th>Ticker</th>\n",
       "      <th>AAPL</th>\n",
       "      <th>AMZN</th>\n",
       "      <th>APTV</th>\n",
       "      <th>ASML</th>\n",
       "      <th>BABA</th>\n",
       "      <th>DGX</th>\n",
       "      <th>GOOGL</th>\n",
       "      <th>NKE</th>\n",
       "      <th>TSM</th>\n",
       "      <th>YUM</th>\n",
       "    </tr>\n",
       "  </thead>\n",
       "  <tbody>\n",
       "    <tr>\n",
       "      <th>2010-05-03</th>\n",
       "      <td>NaN</td>\n",
       "      <td>NaN</td>\n",
       "      <td>NaN</td>\n",
       "      <td>NaN</td>\n",
       "      <td>NaN</td>\n",
       "      <td>NaN</td>\n",
       "      <td>26.556557</td>\n",
       "      <td>NaN</td>\n",
       "      <td>NaN</td>\n",
       "      <td>NaN</td>\n",
       "    </tr>\n",
       "    <tr>\n",
       "      <th>2010-05-04</th>\n",
       "      <td>NaN</td>\n",
       "      <td>NaN</td>\n",
       "      <td>NaN</td>\n",
       "      <td>NaN</td>\n",
       "      <td>NaN</td>\n",
       "      <td>NaN</td>\n",
       "      <td>25.343843</td>\n",
       "      <td>NaN</td>\n",
       "      <td>NaN</td>\n",
       "      <td>NaN</td>\n",
       "    </tr>\n",
       "    <tr>\n",
       "      <th>2010-05-05</th>\n",
       "      <td>NaN</td>\n",
       "      <td>NaN</td>\n",
       "      <td>NaN</td>\n",
       "      <td>NaN</td>\n",
       "      <td>NaN</td>\n",
       "      <td>NaN</td>\n",
       "      <td>25.513514</td>\n",
       "      <td>NaN</td>\n",
       "      <td>NaN</td>\n",
       "      <td>NaN</td>\n",
       "    </tr>\n",
       "    <tr>\n",
       "      <th>2010-05-06</th>\n",
       "      <td>NaN</td>\n",
       "      <td>NaN</td>\n",
       "      <td>NaN</td>\n",
       "      <td>NaN</td>\n",
       "      <td>NaN</td>\n",
       "      <td>NaN</td>\n",
       "      <td>24.958458</td>\n",
       "      <td>NaN</td>\n",
       "      <td>NaN</td>\n",
       "      <td>NaN</td>\n",
       "    </tr>\n",
       "    <tr>\n",
       "      <th>2010-05-07</th>\n",
       "      <td>NaN</td>\n",
       "      <td>NaN</td>\n",
       "      <td>NaN</td>\n",
       "      <td>NaN</td>\n",
       "      <td>NaN</td>\n",
       "      <td>NaN</td>\n",
       "      <td>24.681683</td>\n",
       "      <td>NaN</td>\n",
       "      <td>NaN</td>\n",
       "      <td>NaN</td>\n",
       "    </tr>\n",
       "    <tr>\n",
       "      <th>...</th>\n",
       "      <td>...</td>\n",
       "      <td>...</td>\n",
       "      <td>...</td>\n",
       "      <td>...</td>\n",
       "      <td>...</td>\n",
       "      <td>...</td>\n",
       "      <td>...</td>\n",
       "      <td>...</td>\n",
       "      <td>...</td>\n",
       "      <td>...</td>\n",
       "    </tr>\n",
       "    <tr>\n",
       "      <th>2022-10-24</th>\n",
       "      <td>3287.899933</td>\n",
       "      <td>1198.199997</td>\n",
       "      <td>3543.200073</td>\n",
       "      <td>21283.650055</td>\n",
       "      <td>4104.750099</td>\n",
       "      <td>6253.200302</td>\n",
       "      <td>820.159973</td>\n",
       "      <td>2552.290062</td>\n",
       "      <td>6312.870094</td>\n",
       "      <td>2936.789909</td>\n",
       "    </tr>\n",
       "    <tr>\n",
       "      <th>2022-10-25</th>\n",
       "      <td>3351.479919</td>\n",
       "      <td>1205.999985</td>\n",
       "      <td>3612.000122</td>\n",
       "      <td>21870.450439</td>\n",
       "      <td>4109.300079</td>\n",
       "      <td>6482.250137</td>\n",
       "      <td>835.840027</td>\n",
       "      <td>2659.880035</td>\n",
       "      <td>6297.419937</td>\n",
       "      <td>3003.479942</td>\n",
       "    </tr>\n",
       "    <tr>\n",
       "      <th>2022-10-26</th>\n",
       "      <td>3285.700134</td>\n",
       "      <td>1156.600037</td>\n",
       "      <td>3576.000061</td>\n",
       "      <td>21784.049835</td>\n",
       "      <td>4453.150139</td>\n",
       "      <td>6457.949753</td>\n",
       "      <td>759.440002</td>\n",
       "      <td>2679.309982</td>\n",
       "      <td>6266.520016</td>\n",
       "      <td>3031.289909</td>\n",
       "    </tr>\n",
       "    <tr>\n",
       "      <th>2022-10-27</th>\n",
       "      <td>3185.600067</td>\n",
       "      <td>1109.599991</td>\n",
       "      <td>3540.400085</td>\n",
       "      <td>21348.450165</td>\n",
       "      <td>4279.599762</td>\n",
       "      <td>6419.249725</td>\n",
       "      <td>737.760010</td>\n",
       "      <td>2625.660027</td>\n",
       "      <td>6277.850079</td>\n",
       "      <td>3075.570099</td>\n",
       "    </tr>\n",
       "    <tr>\n",
       "      <th>2022-10-28</th>\n",
       "      <td>NaN</td>\n",
       "      <td>NaN</td>\n",
       "      <td>NaN</td>\n",
       "      <td>NaN</td>\n",
       "      <td>NaN</td>\n",
       "      <td>NaN</td>\n",
       "      <td>NaN</td>\n",
       "      <td>NaN</td>\n",
       "      <td>NaN</td>\n",
       "      <td>NaN</td>\n",
       "    </tr>\n",
       "  </tbody>\n",
       "</table>\n",
       "<p>4562 rows × 10 columns</p>\n",
       "</div>"
      ],
      "text/plain": [
       "Ticker             AAPL         AMZN         APTV          ASML         BABA  \\\n",
       "2010-05-03          NaN          NaN          NaN           NaN          NaN   \n",
       "2010-05-04          NaN          NaN          NaN           NaN          NaN   \n",
       "2010-05-05          NaN          NaN          NaN           NaN          NaN   \n",
       "2010-05-06          NaN          NaN          NaN           NaN          NaN   \n",
       "2010-05-07          NaN          NaN          NaN           NaN          NaN   \n",
       "...                 ...          ...          ...           ...          ...   \n",
       "2022-10-24  3287.899933  1198.199997  3543.200073  21283.650055  4104.750099   \n",
       "2022-10-25  3351.479919  1205.999985  3612.000122  21870.450439  4109.300079   \n",
       "2022-10-26  3285.700134  1156.600037  3576.000061  21784.049835  4453.150139   \n",
       "2022-10-27  3185.600067  1109.599991  3540.400085  21348.450165  4279.599762   \n",
       "2022-10-28          NaN          NaN          NaN           NaN          NaN   \n",
       "\n",
       "Ticker              DGX       GOOGL          NKE          TSM          YUM  \n",
       "2010-05-03          NaN   26.556557          NaN          NaN          NaN  \n",
       "2010-05-04          NaN   25.343843          NaN          NaN          NaN  \n",
       "2010-05-05          NaN   25.513514          NaN          NaN          NaN  \n",
       "2010-05-06          NaN   24.958458          NaN          NaN          NaN  \n",
       "2010-05-07          NaN   24.681683          NaN          NaN          NaN  \n",
       "...                 ...         ...          ...          ...          ...  \n",
       "2022-10-24  6253.200302  820.159973  2552.290062  6312.870094  2936.789909  \n",
       "2022-10-25  6482.250137  835.840027  2659.880035  6297.419937  3003.479942  \n",
       "2022-10-26  6457.949753  759.440002  2679.309982  6266.520016  3031.289909  \n",
       "2022-10-27  6419.249725  737.760010  2625.660027  6277.850079  3075.570099  \n",
       "2022-10-28          NaN         NaN          NaN          NaN          NaN  \n",
       "\n",
       "[4562 rows x 10 columns]"
      ]
     },
     "metadata": {},
     "output_type": "display_data"
    }
   ],
   "source": [
    "contrib_dataframe = attribution_model.get_portfolio_sector_contributions(start_date, orderbook)\n",
    "display(contrib_dataframe)"
   ]
  },
  {
   "cell_type": "code",
   "execution_count": 5,
   "metadata": {},
   "outputs": [],
   "source": [
    "# contrib_df, sector_df, pf_trades = attribution_model.get_portfolio_sector_contributions(start_date, orderbook)\n"
   ]
  },
  {
   "cell_type": "code",
   "execution_count": 6,
   "metadata": {},
   "outputs": [],
   "source": [
    "# display(contrib_df)\n",
    "# display(sector_df)\n",
    "# display(pf_trades)\n",
    "# print(contrib_df.isna().sum())"
   ]
  },
  {
   "cell_type": "code",
   "execution_count": 8,
   "metadata": {},
   "outputs": [
    {
     "data": {
      "text/html": [
       "<div>\n",
       "<style scoped>\n",
       "    .dataframe tbody tr th:only-of-type {\n",
       "        vertical-align: middle;\n",
       "    }\n",
       "\n",
       "    .dataframe tbody tr th {\n",
       "        vertical-align: top;\n",
       "    }\n",
       "\n",
       "    .dataframe thead th {\n",
       "        text-align: right;\n",
       "    }\n",
       "</style>\n",
       "<table border=\"1\" class=\"dataframe\">\n",
       "  <thead>\n",
       "    <tr style=\"text-align: right;\">\n",
       "      <th></th>\n",
       "      <th>contribution</th>\n",
       "      <th>contribution_as_pct</th>\n",
       "    </tr>\n",
       "    <tr>\n",
       "      <th>sector</th>\n",
       "      <th></th>\n",
       "      <th></th>\n",
       "    </tr>\n",
       "  </thead>\n",
       "  <tbody>\n",
       "    <tr>\n",
       "      <th>S&amp;P 500 Consumer Discretionary (Sector)</th>\n",
       "      <td>0.06</td>\n",
       "      <td>12.95</td>\n",
       "    </tr>\n",
       "    <tr>\n",
       "      <th>S&amp;P 500 Consumer Staples (Sector)</th>\n",
       "      <td>0.02</td>\n",
       "      <td>4.32</td>\n",
       "    </tr>\n",
       "    <tr>\n",
       "      <th>S&amp;P 500 Energy (Sector)</th>\n",
       "      <td>0.01</td>\n",
       "      <td>2.16</td>\n",
       "    </tr>\n",
       "    <tr>\n",
       "      <th>S&amp;P 500 Financials (Sector)</th>\n",
       "      <td>0.05</td>\n",
       "      <td>10.80</td>\n",
       "    </tr>\n",
       "    <tr>\n",
       "      <th>S&amp;P 500 Health Care (Sector)</th>\n",
       "      <td>0.06</td>\n",
       "      <td>12.95</td>\n",
       "    </tr>\n",
       "    <tr>\n",
       "      <th>S&amp;P 500 Industrials (Sector)</th>\n",
       "      <td>0.03</td>\n",
       "      <td>6.48</td>\n",
       "    </tr>\n",
       "    <tr>\n",
       "      <th>S&amp;P 500 Information Technology (Sector)</th>\n",
       "      <td>0.18</td>\n",
       "      <td>38.86</td>\n",
       "    </tr>\n",
       "    <tr>\n",
       "      <th>S&amp;P 500 Materials (Sector)</th>\n",
       "      <td>0.01</td>\n",
       "      <td>2.16</td>\n",
       "    </tr>\n",
       "    <tr>\n",
       "      <th>S&amp;P 500 Real Estate (Sector)</th>\n",
       "      <td>0.01</td>\n",
       "      <td>2.16</td>\n",
       "    </tr>\n",
       "    <tr>\n",
       "      <th>S&amp;P 500 Telecommunication Services (Sector)</th>\n",
       "      <td>0.04</td>\n",
       "      <td>8.64</td>\n",
       "    </tr>\n",
       "    <tr>\n",
       "      <th>S&amp;P 500 Utilities (Sector)</th>\n",
       "      <td>0.00</td>\n",
       "      <td>0.00</td>\n",
       "    </tr>\n",
       "  </tbody>\n",
       "</table>\n",
       "</div>"
      ],
      "text/plain": [
       "                                             contribution  contribution_as_pct\n",
       "sector                                                                        \n",
       "S&P 500 Consumer Discretionary (Sector)              0.06                12.95\n",
       "S&P 500 Consumer Staples (Sector)                    0.02                 4.32\n",
       "S&P 500 Energy (Sector)                              0.01                 2.16\n",
       "S&P 500 Financials (Sector)                          0.05                10.80\n",
       "S&P 500 Health Care (Sector)                         0.06                12.95\n",
       "S&P 500 Industrials (Sector)                         0.03                 6.48\n",
       "S&P 500 Information Technology (Sector)              0.18                38.86\n",
       "S&P 500 Materials (Sector)                           0.01                 2.16\n",
       "S&P 500 Real Estate (Sector)                         0.01                 2.16\n",
       "S&P 500 Telecommunication Services (Sector)          0.04                 8.64\n",
       "S&P 500 Utilities (Sector)                           0.00                 0.00"
      ]
     },
     "execution_count": 8,
     "metadata": {},
     "output_type": "execute_result"
    }
   ],
   "source": [
    "attribution_model.get_spy_sector_contributions(\"2020-01-01\",\"2022-01-01\")"
   ]
  },
  {
   "cell_type": "code",
   "execution_count": 15,
   "metadata": {},
   "outputs": [
    {
     "ename": "TypeError",
     "evalue": "'module' object is not callable",
     "output_type": "error",
     "traceback": [
      "\u001b[1;31m---------------------------------------------------------------------------\u001b[0m",
      "\u001b[1;31mTypeError\u001b[0m                                 Traceback (most recent call last)",
      "\u001b[1;32mc:\\Repositories\\TH_CSIDS\\Experiment\\sams_scratch.ipynb Cell 8\u001b[0m in \u001b[0;36m<cell line: 1>\u001b[1;34m()\u001b[0m\n\u001b[1;32m----> <a href='vscode-notebook-cell:/c%3A/Repositories/TH_CSIDS/Experiment/sams_scratch.ipynb#X12sZmlsZQ%3D%3D?line=0'>1</a>\u001b[0m pf \u001b[39m=\u001b[39m portfolio_controller()\n",
      "\u001b[1;31mTypeError\u001b[0m: 'module' object is not callable"
     ]
    }
   ],
   "source": [
    "pf = portfolio_controller()"
   ]
  },
  {
   "cell_type": "code",
   "execution_count": null,
   "metadata": {},
   "outputs": [],
   "source": [
    "terminal = terminal.TerminalController()\n",
    "terminal.call_portfolio(None)\n"
   ]
  },
  {
   "cell_type": "code",
   "execution_count": 2,
   "metadata": {},
   "outputs": [],
   "source": [
    "pf = portfolio_controller.PortfolioController()"
   ]
  },
  {
   "cell_type": "code",
   "execution_count": 3,
   "metadata": {},
   "outputs": [
    {
     "data": {
      "text/html": [
       "<pre style=\"white-space:pre;overflow-x:auto;line-height:normal;font-family:Menlo,'DejaVu Sans Mono',consolas,'Courier New',monospace\"> Preprocessing orderbook: </pre>\n"
      ],
      "text/plain": [
       " Preprocessing orderbook: "
      ]
     },
     "metadata": {},
     "output_type": "display_data"
    },
    {
     "data": {
      "text/html": [
       "<pre style=\"white-space:pre;overflow-x:auto;line-height:normal;font-family:Menlo,'DejaVu Sans Mono',consolas,'Courier New',monospace\">.</pre>\n"
      ],
      "text/plain": [
       "."
      ]
     },
     "metadata": {},
     "output_type": "display_data"
    },
    {
     "data": {
      "text/html": [
       "<pre style=\"white-space:pre;overflow-x:auto;line-height:normal;font-family:Menlo,'DejaVu Sans Mono',consolas,'Courier New',monospace\">.</pre>\n"
      ],
      "text/plain": [
       "."
      ]
     },
     "metadata": {},
     "output_type": "display_data"
    },
    {
     "data": {
      "text/html": [
       "<pre style=\"white-space:pre;overflow-x:auto;line-height:normal;font-family:Menlo,'DejaVu Sans Mono',consolas,'Courier New',monospace\">.</pre>\n"
      ],
      "text/plain": [
       "."
      ]
     },
     "metadata": {},
     "output_type": "display_data"
    },
    {
     "data": {
      "text/html": [
       "<pre style=\"white-space:pre;overflow-x:auto;line-height:normal;font-family:Menlo,'DejaVu Sans Mono',consolas,'Courier New',monospace\">.</pre>\n"
      ],
      "text/plain": [
       "."
      ]
     },
     "metadata": {},
     "output_type": "display_data"
    },
    {
     "data": {
      "text/html": [
       "<pre style=\"white-space:pre;overflow-x:auto;line-height:normal;font-family:Menlo,'DejaVu Sans Mono',consolas,'Courier New',monospace\">.</pre>\n"
      ],
      "text/plain": [
       "."
      ]
     },
     "metadata": {},
     "output_type": "display_data"
    },
    {
     "data": {
      "text/html": [
       "<pre style=\"white-space:pre;overflow-x:auto;line-height:normal;font-family:Menlo,'DejaVu Sans Mono',consolas,'Courier New',monospace\">.</pre>\n"
      ],
      "text/plain": [
       "."
      ]
     },
     "metadata": {},
     "output_type": "display_data"
    },
    {
     "data": {
      "text/html": [
       "<pre style=\"white-space:pre;overflow-x:auto;line-height:normal;font-family:Menlo,'DejaVu Sans Mono',consolas,'Courier New',monospace\">.</pre>\n"
      ],
      "text/plain": [
       "."
      ]
     },
     "metadata": {},
     "output_type": "display_data"
    },
    {
     "data": {
      "text/html": [
       "<pre style=\"white-space:pre;overflow-x:auto;line-height:normal;font-family:Menlo,'DejaVu Sans Mono',consolas,'Courier New',monospace\">.</pre>\n"
      ],
      "text/plain": [
       "."
      ]
     },
     "metadata": {},
     "output_type": "display_data"
    },
    {
     "data": {
      "text/html": [
       "<pre style=\"white-space:pre;overflow-x:auto;line-height:normal;font-family:Menlo,'DejaVu Sans Mono',consolas,'Courier New',monospace\">.</pre>\n"
      ],
      "text/plain": [
       "."
      ]
     },
     "metadata": {},
     "output_type": "display_data"
    },
    {
     "data": {
      "text/html": [
       "<pre style=\"white-space:pre;overflow-x:auto;line-height:normal;font-family:Menlo,'DejaVu Sans Mono',consolas,'Courier New',monospace\">.</pre>\n"
      ],
      "text/plain": [
       "."
      ]
     },
     "metadata": {},
     "output_type": "display_data"
    },
    {
     "data": {
      "text/html": [
       "<pre style=\"white-space:pre;overflow-x:auto;line-height:normal;font-family:Menlo,'DejaVu Sans Mono',consolas,'Courier New',monospace\">\n",
       "      Loading price data: </pre>\n"
      ],
      "text/plain": [
       "\n",
       "      Loading price data: "
      ]
     },
     "metadata": {},
     "output_type": "display_data"
    },
    {
     "data": {
      "text/html": [
       "<pre style=\"white-space:pre;overflow-x:auto;line-height:normal;font-family:Menlo,'DejaVu Sans Mono',consolas,'Courier New',monospace\">.</pre>\n"
      ],
      "text/plain": [
       "."
      ]
     },
     "metadata": {},
     "output_type": "display_data"
    },
    {
     "data": {
      "text/html": [
       "<pre style=\"white-space:pre;overflow-x:auto;line-height:normal;font-family:Menlo,'DejaVu Sans Mono',consolas,'Courier New',monospace\">\n",
       "     Calculating returns: </pre>\n"
      ],
      "text/plain": [
       "\n",
       "     Calculating returns: "
      ]
     },
     "metadata": {},
     "output_type": "display_data"
    },
    {
     "data": {
      "text/html": [
       "<pre style=\"white-space:pre;overflow-x:auto;line-height:normal;font-family:Menlo,'DejaVu Sans Mono',consolas,'Courier New',monospace\">.</pre>\n"
      ],
      "text/plain": [
       "."
      ]
     },
     "metadata": {},
     "output_type": "display_data"
    },
    {
     "data": {
      "text/html": [
       "<pre style=\"white-space:pre;overflow-x:auto;line-height:normal;font-family:Menlo,'DejaVu Sans Mono',consolas,'Courier New',monospace\">\n",
       "\n",
       "</pre>\n"
      ],
      "text/plain": [
       "\n",
       "\n"
      ]
     },
     "metadata": {},
     "output_type": "display_data"
    },
    {
     "data": {
      "text/html": [
       "<pre style=\"white-space:pre;overflow-x:auto;line-height:normal;font-family:Menlo,'DejaVu Sans Mono',consolas,'Courier New',monospace\">\n",
       "<span style=\"font-weight: bold\">Portfolio:</span> C:\\Repositories\\TH_CSIDS\\OpenBBTerminal-main\\portfolio\\holdings\\pf_attirb_qa_2.xlsx\n",
       "</pre>\n"
      ],
      "text/plain": [
       "\n",
       "\u001b[1mPortfolio:\u001b[0m C:\\Repositories\\TH_CSIDS\\OpenBBTerminal-main\\portfolio\\holdings\\pf_attirb_qa_2.xlsx\n"
      ]
     },
     "metadata": {},
     "output_type": "display_data"
    },
    {
     "data": {
      "text/html": [
       "<pre style=\"white-space:pre;overflow-x:auto;line-height:normal;font-family:Menlo,'DejaVu Sans Mono',consolas,'Courier New',monospace\"><span style=\"font-weight: bold\">Risk Free Rate:</span> 0\n",
       "</pre>\n"
      ],
      "text/plain": [
       "\u001b[1mRisk Free Rate:\u001b[0m 0\n"
      ]
     },
     "metadata": {},
     "output_type": "display_data"
    },
    {
     "data": {
      "text/html": [
       "<pre style=\"white-space:pre;overflow-x:auto;line-height:normal;font-family:Menlo,'DejaVu Sans Mono',consolas,'Courier New',monospace\">\n",
       "</pre>\n"
      ],
      "text/plain": [
       "\n"
      ]
     },
     "metadata": {},
     "output_type": "display_data"
    },
    {
     "data": {
      "text/html": [
       "<pre style=\"white-space:pre;overflow-x:auto;line-height:normal;font-family:Menlo,'DejaVu Sans Mono',consolas,'Courier New',monospace\">\n",
       "<span style=\"font-weight: bold\">Benchmark:</span> SPDR S&amp;P 500 ETF Trust (SPY) (SPY)\n",
       "</pre>\n"
      ],
      "text/plain": [
       "\n",
       "\u001b[1mBenchmark:\u001b[0m SPDR S&P 500 ETF Trust (SPY) (SPY)\n"
      ]
     },
     "metadata": {},
     "output_type": "display_data"
    },
    {
     "data": {
      "text/html": [
       "<pre style=\"white-space:pre;overflow-x:auto;line-height:normal;font-family:Menlo,'DejaVu Sans Mono',consolas,'Courier New',monospace\">\n",
       "</pre>\n"
      ],
      "text/plain": [
       "\n"
      ]
     },
     "metadata": {},
     "output_type": "display_data"
    }
   ],
   "source": [
    "pf.call_load([\"-f\",\"C:\\Repositories\\TH_CSIDS\\OpenBBTerminal-main\\portfolio\\holdings\\pf_attirb_qa_2.xlsx\"])\n",
    "pf.call_bench([\"SPDR S&P 500 ETF Trust (SPY)\"])"
   ]
  },
  {
   "cell_type": "code",
   "execution_count": 4,
   "metadata": {},
   "outputs": [
    {
     "ename": "AttributeError",
     "evalue": "'PortfolioController' object has no attribute 'call_attrib'",
     "output_type": "error",
     "traceback": [
      "\u001b[1;31m---------------------------------------------------------------------------\u001b[0m",
      "\u001b[1;31mAttributeError\u001b[0m                            Traceback (most recent call last)",
      "\u001b[1;32mc:\\Repositories\\TH_CSIDS\\Experiment\\sams_scratch.ipynb Cell 12\u001b[0m in \u001b[0;36m<cell line: 1>\u001b[1;34m()\u001b[0m\n\u001b[1;32m----> <a href='vscode-notebook-cell:/c%3A/Repositories/TH_CSIDS/Experiment/sams_scratch.ipynb#X16sZmlsZQ%3D%3D?line=0'>1</a>\u001b[0m pf\u001b[39m.\u001b[39;49mcall_attrib()\n",
      "\u001b[1;31mAttributeError\u001b[0m: 'PortfolioController' object has no attribute 'call_attrib'"
     ]
    }
   ],
   "source": [
    "pf.call_attrib()"
   ]
  },
  {
   "cell_type": "code",
   "execution_count": null,
   "metadata": {},
   "outputs": [],
   "source": []
  }
 ],
 "metadata": {
  "kernelspec": {
   "display_name": "Python 3.9.13 ('obb')",
   "language": "python",
   "name": "python3"
  },
  "language_info": {
   "codemirror_mode": {
    "name": "ipython",
    "version": 3
   },
   "file_extension": ".py",
   "mimetype": "text/x-python",
   "name": "python",
   "nbconvert_exporter": "python",
   "pygments_lexer": "ipython3",
   "version": "3.9.13"
  },
  "orig_nbformat": 4,
  "vscode": {
   "interpreter": {
    "hash": "34bec1a85496b9fc225f57d11e7e6a61d2ed2f14fe28f30e70ff45f05f7ba5d5"
   }
  }
 },
 "nbformat": 4,
 "nbformat_minor": 2
}
