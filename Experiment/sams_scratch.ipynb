{
 "cells": [
  {
   "cell_type": "code",
   "execution_count": 29,
   "metadata": {},
   "outputs": [],
   "source": [
    "import yahooquery as yq\n",
    "import yfinance as yf\n",
    "import pandas as pd\n",
    "import sys\n",
    " \n",
    "# setting path\n",
    "sys.path.append('../OpenBBTerminal-main/')\n",
    "import terminal\n",
    "from openbb_terminal.portfolio import portfolio_model\n",
    "from openbb_terminal.portfolio import portfolio_controller\n",
    "# from openbb_terminal.portfolio import attribution_model\n",
    "\n",
    "# sys.path.append('../OpenBBTerminal-main/openbb_terminal/')\n",
    "\n",
    "# from portfolio import attribution_model\n",
    "\n"
   ]
  },
  {
   "cell_type": "code",
   "execution_count": 2,
   "metadata": {},
   "outputs": [],
   "source": [
    "# file_location = \"C:\\Repositories\\TH_CSIDS\\OpenBBTerminal-main\\portfolio\\holdings\\Public_Equity_Orderbook.xlsx\"\n",
    "file_location = \"C:\\Repositories\\TH_CSIDS\\OpenBBTerminal-main\\portfolio\\holdings\\pf_attirb_qa_2.xlsx\"\n",
    "\n",
    "\n",
    "orderbook = portfolio_model.PortfolioModel.read_orderbook(\n",
    "                str(file_location)\n",
    "            )\n",
    "start_date = orderbook['Date'][0]"
   ]
  },
  {
   "cell_type": "code",
   "execution_count": 3,
   "metadata": {},
   "outputs": [],
   "source": [
    "# attribution_model.get_portfolio_sector_contributions_original(start_date, orderbook)\n"
   ]
  },
  {
   "cell_type": "code",
   "execution_count": 4,
   "metadata": {},
   "outputs": [
    {
     "name": "stderr",
     "output_type": "stream",
     "text": [
      "c:\\Users\\SJMac\\anaconda3\\envs\\obb\\lib\\site-packages\\pandas\\core\\ops\\array_ops.py:73: FutureWarning: Comparison of Timestamp with datetime.date is deprecated in order to match the standard library behavior. In a future version these will be considered non-comparable. Use 'ts == pd.Timestamp(date)' or 'ts.date() == date' instead.\n",
      "  result = libops.scalar_compare(x.ravel(), y, op)\n"
     ]
    },
    {
     "data": {
      "text/html": [
       "<div>\n",
       "<style scoped>\n",
       "    .dataframe tbody tr th:only-of-type {\n",
       "        vertical-align: middle;\n",
       "    }\n",
       "\n",
       "    .dataframe tbody tr th {\n",
       "        vertical-align: top;\n",
       "    }\n",
       "\n",
       "    .dataframe thead th {\n",
       "        text-align: right;\n",
       "    }\n",
       "</style>\n",
       "<table border=\"1\" class=\"dataframe\">\n",
       "  <thead>\n",
       "    <tr style=\"text-align: right;\">\n",
       "      <th></th>\n",
       "      <th>contribution</th>\n",
       "      <th>contribution_as_pct</th>\n",
       "    </tr>\n",
       "    <tr>\n",
       "      <th>Sector</th>\n",
       "      <th></th>\n",
       "      <th></th>\n",
       "    </tr>\n",
       "  </thead>\n",
       "  <tbody>\n",
       "    <tr>\n",
       "      <th>S&amp;P 500 Materials (Sector)</th>\n",
       "      <td>0.000000</td>\n",
       "      <td>0.0</td>\n",
       "    </tr>\n",
       "    <tr>\n",
       "      <th>S&amp;P 500 Industrials (Sector)</th>\n",
       "      <td>0.000000</td>\n",
       "      <td>0.0</td>\n",
       "    </tr>\n",
       "    <tr>\n",
       "      <th>S&amp;P 500 Consumer Discretionary (Sector)</th>\n",
       "      <td>0.000000</td>\n",
       "      <td>0.0</td>\n",
       "    </tr>\n",
       "    <tr>\n",
       "      <th>S&amp;P 500 Consumer Staples (Sector)</th>\n",
       "      <td>0.000000</td>\n",
       "      <td>0.0</td>\n",
       "    </tr>\n",
       "    <tr>\n",
       "      <th>S&amp;P 500 Health Care (Sector)</th>\n",
       "      <td>0.000000</td>\n",
       "      <td>0.0</td>\n",
       "    </tr>\n",
       "    <tr>\n",
       "      <th>S&amp;P 500 Financials (Sector)</th>\n",
       "      <td>0.000000</td>\n",
       "      <td>0.0</td>\n",
       "    </tr>\n",
       "    <tr>\n",
       "      <th>S&amp;P 500 Information Technology (Sector)</th>\n",
       "      <td>0.000000</td>\n",
       "      <td>0.0</td>\n",
       "    </tr>\n",
       "    <tr>\n",
       "      <th>S&amp;P 500 Telecommunication Services (Sector)</th>\n",
       "      <td>2.415038</td>\n",
       "      <td>100.0</td>\n",
       "    </tr>\n",
       "    <tr>\n",
       "      <th>S&amp;P 500 Utilities (Sector)</th>\n",
       "      <td>0.000000</td>\n",
       "      <td>0.0</td>\n",
       "    </tr>\n",
       "    <tr>\n",
       "      <th>S&amp;P 500 Real Estate (Sector)</th>\n",
       "      <td>0.000000</td>\n",
       "      <td>0.0</td>\n",
       "    </tr>\n",
       "    <tr>\n",
       "      <th>S&amp;P 500 Energy (Sector)</th>\n",
       "      <td>0.000000</td>\n",
       "      <td>0.0</td>\n",
       "    </tr>\n",
       "  </tbody>\n",
       "</table>\n",
       "</div>"
      ],
      "text/plain": [
       "                                             contribution  contribution_as_pct\n",
       "Sector                                                                        \n",
       "S&P 500 Materials (Sector)                       0.000000                  0.0\n",
       "S&P 500 Industrials (Sector)                     0.000000                  0.0\n",
       "S&P 500 Consumer Discretionary (Sector)          0.000000                  0.0\n",
       "S&P 500 Consumer Staples (Sector)                0.000000                  0.0\n",
       "S&P 500 Health Care (Sector)                     0.000000                  0.0\n",
       "S&P 500 Financials (Sector)                      0.000000                  0.0\n",
       "S&P 500 Information Technology (Sector)          0.000000                  0.0\n",
       "S&P 500 Telecommunication Services (Sector)      2.415038                100.0\n",
       "S&P 500 Utilities (Sector)                       0.000000                  0.0\n",
       "S&P 500 Real Estate (Sector)                     0.000000                  0.0\n",
       "S&P 500 Energy (Sector)                          0.000000                  0.0"
      ]
     },
     "metadata": {},
     "output_type": "display_data"
    }
   ],
   "source": [
    "contrib_dataframe = attribution_model.get_portfolio_sector_contributions(start_date, orderbook)\n",
    "display(contrib_dataframe)"
   ]
  },
  {
   "cell_type": "code",
   "execution_count": 5,
   "metadata": {},
   "outputs": [],
   "source": [
    "# contrib_df, sector_df, pf_trades = attribution_model.get_portfolio_sector_contributions(start_date, orderbook)\n"
   ]
  },
  {
   "cell_type": "code",
   "execution_count": 6,
   "metadata": {},
   "outputs": [],
   "source": [
    "# display(contrib_df)\n",
    "# display(sector_df)\n",
    "# display(pf_trades)\n",
    "# print(contrib_df.isna().sum())"
   ]
  },
  {
   "cell_type": "code",
   "execution_count": 8,
   "metadata": {},
   "outputs": [
    {
     "data": {
      "text/html": [
       "<div>\n",
       "<style scoped>\n",
       "    .dataframe tbody tr th:only-of-type {\n",
       "        vertical-align: middle;\n",
       "    }\n",
       "\n",
       "    .dataframe tbody tr th {\n",
       "        vertical-align: top;\n",
       "    }\n",
       "\n",
       "    .dataframe thead th {\n",
       "        text-align: right;\n",
       "    }\n",
       "</style>\n",
       "<table border=\"1\" class=\"dataframe\">\n",
       "  <thead>\n",
       "    <tr style=\"text-align: right;\">\n",
       "      <th></th>\n",
       "      <th>contribution</th>\n",
       "      <th>contribution_as_pct</th>\n",
       "    </tr>\n",
       "    <tr>\n",
       "      <th>sector</th>\n",
       "      <th></th>\n",
       "      <th></th>\n",
       "    </tr>\n",
       "  </thead>\n",
       "  <tbody>\n",
       "    <tr>\n",
       "      <th>S&amp;P 500 Consumer Discretionary (Sector)</th>\n",
       "      <td>0.06</td>\n",
       "      <td>12.95</td>\n",
       "    </tr>\n",
       "    <tr>\n",
       "      <th>S&amp;P 500 Consumer Staples (Sector)</th>\n",
       "      <td>0.02</td>\n",
       "      <td>4.32</td>\n",
       "    </tr>\n",
       "    <tr>\n",
       "      <th>S&amp;P 500 Energy (Sector)</th>\n",
       "      <td>0.01</td>\n",
       "      <td>2.16</td>\n",
       "    </tr>\n",
       "    <tr>\n",
       "      <th>S&amp;P 500 Financials (Sector)</th>\n",
       "      <td>0.05</td>\n",
       "      <td>10.80</td>\n",
       "    </tr>\n",
       "    <tr>\n",
       "      <th>S&amp;P 500 Health Care (Sector)</th>\n",
       "      <td>0.06</td>\n",
       "      <td>12.95</td>\n",
       "    </tr>\n",
       "    <tr>\n",
       "      <th>S&amp;P 500 Industrials (Sector)</th>\n",
       "      <td>0.03</td>\n",
       "      <td>6.48</td>\n",
       "    </tr>\n",
       "    <tr>\n",
       "      <th>S&amp;P 500 Information Technology (Sector)</th>\n",
       "      <td>0.18</td>\n",
       "      <td>38.86</td>\n",
       "    </tr>\n",
       "    <tr>\n",
       "      <th>S&amp;P 500 Materials (Sector)</th>\n",
       "      <td>0.01</td>\n",
       "      <td>2.16</td>\n",
       "    </tr>\n",
       "    <tr>\n",
       "      <th>S&amp;P 500 Real Estate (Sector)</th>\n",
       "      <td>0.01</td>\n",
       "      <td>2.16</td>\n",
       "    </tr>\n",
       "    <tr>\n",
       "      <th>S&amp;P 500 Telecommunication Services (Sector)</th>\n",
       "      <td>0.04</td>\n",
       "      <td>8.64</td>\n",
       "    </tr>\n",
       "    <tr>\n",
       "      <th>S&amp;P 500 Utilities (Sector)</th>\n",
       "      <td>0.00</td>\n",
       "      <td>0.00</td>\n",
       "    </tr>\n",
       "  </tbody>\n",
       "</table>\n",
       "</div>"
      ],
      "text/plain": [
       "                                             contribution  contribution_as_pct\n",
       "sector                                                                        \n",
       "S&P 500 Consumer Discretionary (Sector)              0.06                12.95\n",
       "S&P 500 Consumer Staples (Sector)                    0.02                 4.32\n",
       "S&P 500 Energy (Sector)                              0.01                 2.16\n",
       "S&P 500 Financials (Sector)                          0.05                10.80\n",
       "S&P 500 Health Care (Sector)                         0.06                12.95\n",
       "S&P 500 Industrials (Sector)                         0.03                 6.48\n",
       "S&P 500 Information Technology (Sector)              0.18                38.86\n",
       "S&P 500 Materials (Sector)                           0.01                 2.16\n",
       "S&P 500 Real Estate (Sector)                         0.01                 2.16\n",
       "S&P 500 Telecommunication Services (Sector)          0.04                 8.64\n",
       "S&P 500 Utilities (Sector)                           0.00                 0.00"
      ]
     },
     "execution_count": 8,
     "metadata": {},
     "output_type": "execute_result"
    }
   ],
   "source": [
    "attribution_model.get_spy_sector_contributions(\"2020-01-01\",\"2022-01-01\")"
   ]
  },
  {
   "cell_type": "code",
   "execution_count": 15,
   "metadata": {},
   "outputs": [
    {
     "ename": "TypeError",
     "evalue": "'module' object is not callable",
     "output_type": "error",
     "traceback": [
      "\u001b[1;31m---------------------------------------------------------------------------\u001b[0m",
      "\u001b[1;31mTypeError\u001b[0m                                 Traceback (most recent call last)",
      "\u001b[1;32mc:\\Repositories\\TH_CSIDS\\Experiment\\sams_scratch.ipynb Cell 8\u001b[0m in \u001b[0;36m<cell line: 1>\u001b[1;34m()\u001b[0m\n\u001b[1;32m----> <a href='vscode-notebook-cell:/c%3A/Repositories/TH_CSIDS/Experiment/sams_scratch.ipynb#X12sZmlsZQ%3D%3D?line=0'>1</a>\u001b[0m pf \u001b[39m=\u001b[39m portfolio_controller()\n",
      "\u001b[1;31mTypeError\u001b[0m: 'module' object is not callable"
     ]
    }
   ],
   "source": [
    "pf = portfolio_controller()"
   ]
  },
  {
   "cell_type": "code",
   "execution_count": 19,
   "metadata": {},
   "outputs": [],
   "source": [
    "terminal = terminal.TerminalController()\n",
    "terminal.call_portfolio(None)\n"
   ]
  },
  {
   "cell_type": "code",
   "execution_count": 23,
   "metadata": {},
   "outputs": [],
   "source": [
    "pf = portfolio_controller.PortfolioController()"
   ]
  },
  {
   "cell_type": "code",
   "execution_count": null,
   "metadata": {},
   "outputs": [],
   "source": [
    "pf.call_load([\"-f\",\"C:\\Repositories\\TH_CSIDS\\OpenBBTerminal-main\\portfolio\\holdings\\pf_attirb_qa_2.xlsx\"])\n",
    "pf.call_bench([\"SPDR S&P 500 ETF Trust (SPY)\"])"
   ]
  },
  {
   "cell_type": "code",
   "execution_count": 28,
   "metadata": {},
   "outputs": [
    {
     "ename": "AttributeError",
     "evalue": "'PortfolioController' object has no attribute 'call_attrib'",
     "output_type": "error",
     "traceback": [
      "\u001b[1;31m---------------------------------------------------------------------------\u001b[0m",
      "\u001b[1;31mAttributeError\u001b[0m                            Traceback (most recent call last)",
      "\u001b[1;32mc:\\Repositories\\TH_CSIDS\\Experiment\\sams_scratch.ipynb Cell 12\u001b[0m in \u001b[0;36m<cell line: 1>\u001b[1;34m()\u001b[0m\n\u001b[1;32m----> <a href='vscode-notebook-cell:/c%3A/Repositories/TH_CSIDS/Experiment/sams_scratch.ipynb#X16sZmlsZQ%3D%3D?line=0'>1</a>\u001b[0m pf\u001b[39m.\u001b[39;49mcall_attrib\n",
      "\u001b[1;31mAttributeError\u001b[0m: 'PortfolioController' object has no attribute 'call_attrib'"
     ]
    }
   ],
   "source": [
    "pf.call_"
   ]
  }
 ],
 "metadata": {
  "kernelspec": {
   "display_name": "Python 3.9.13 ('obb')",
   "language": "python",
   "name": "python3"
  },
  "language_info": {
   "codemirror_mode": {
    "name": "ipython",
    "version": 3
   },
   "file_extension": ".py",
   "mimetype": "text/x-python",
   "name": "python",
   "nbconvert_exporter": "python",
   "pygments_lexer": "ipython3",
   "version": "3.9.13"
  },
  "orig_nbformat": 4,
  "vscode": {
   "interpreter": {
    "hash": "34bec1a85496b9fc225f57d11e7e6a61d2ed2f14fe28f30e70ff45f05f7ba5d5"
   }
  }
 },
 "nbformat": 4,
 "nbformat_minor": 2
}
