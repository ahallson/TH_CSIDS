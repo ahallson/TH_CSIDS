{
 "cells": [
  {
   "cell_type": "code",
   "execution_count": 1,
   "metadata": {},
   "outputs": [],
   "source": [
    "import yahooquery as yq\n",
    "import yfinance as yf\n",
    "import pandas as pd\n",
    "import sys\n",
    " \n",
    "# setting path\n",
    "sys.path.append('../OpenBBTerminal-main/')\n",
    "from openbb_terminal.portfolio import portfolio_model\n",
    "sys.path.append('../OpenBBTerminal-main/openbb_terminal/')\n",
    "\n",
    "from portfolio import attribution_model\n",
    "\n"
   ]
  },
  {
   "cell_type": "code",
   "execution_count": 2,
   "metadata": {},
   "outputs": [],
   "source": [
    "# file_location = \"C:\\Repositories\\TH_CSIDS\\OpenBBTerminal-main\\portfolio\\holdings\\Public_Equity_Orderbook.xlsx\"\n",
    "file_location = \"C:\\Repositories\\TH_CSIDS\\OpenBBTerminal-main\\portfolio\\holdings\\pf_attirb_qa_2.xlsx\"\n",
    "\n",
    "\n",
    "orderbook = portfolio_model.PortfolioModel.read_orderbook(\n",
    "                str(file_location)\n",
    "            )\n",
    "start_date = orderbook['Date'][0]"
   ]
  },
  {
   "cell_type": "code",
   "execution_count": 3,
   "metadata": {},
   "outputs": [],
   "source": [
    "# attribution_model.get_portfolio_sector_contributions_original(start_date, orderbook)\n"
   ]
  },
  {
   "cell_type": "code",
   "execution_count": 4,
   "metadata": {},
   "outputs": [
    {
     "name": "stdout",
     "output_type": "stream",
     "text": [
      "['GOOGL']\n"
     ]
    },
    {
     "name": "stderr",
     "output_type": "stream",
     "text": [
      "c:\\Users\\SJMac\\anaconda3\\envs\\obb\\lib\\site-packages\\pandas\\core\\ops\\array_ops.py:73: FutureWarning: Comparison of Timestamp with datetime.date is deprecated in order to match the standard library behavior. In a future version these will be considered non-comparable. Use 'ts == pd.Timestamp(date)' or 'ts.date() == date' instead.\n",
      "  result = libops.scalar_compare(x.ravel(), y, op)\n"
     ]
    },
    {
     "data": {
      "text/html": [
       "<div>\n",
       "<style scoped>\n",
       "    .dataframe tbody tr th:only-of-type {\n",
       "        vertical-align: middle;\n",
       "    }\n",
       "\n",
       "    .dataframe tbody tr th {\n",
       "        vertical-align: top;\n",
       "    }\n",
       "\n",
       "    .dataframe thead th {\n",
       "        text-align: right;\n",
       "    }\n",
       "</style>\n",
       "<table border=\"1\" class=\"dataframe\">\n",
       "  <thead>\n",
       "    <tr style=\"text-align: right;\">\n",
       "      <th></th>\n",
       "      <th>contribution</th>\n",
       "      <th>contribution_as_pct</th>\n",
       "    </tr>\n",
       "    <tr>\n",
       "      <th>Sector</th>\n",
       "      <th></th>\n",
       "      <th></th>\n",
       "    </tr>\n",
       "  </thead>\n",
       "  <tbody>\n",
       "    <tr>\n",
       "      <th>S&amp;P 500 Materials (Sector)</th>\n",
       "      <td>0.000000</td>\n",
       "      <td>0.0</td>\n",
       "    </tr>\n",
       "    <tr>\n",
       "      <th>S&amp;P 500 Industrials (Sector)</th>\n",
       "      <td>0.000000</td>\n",
       "      <td>0.0</td>\n",
       "    </tr>\n",
       "    <tr>\n",
       "      <th>S&amp;P 500 Consumer Discretionary (Sector)</th>\n",
       "      <td>0.000000</td>\n",
       "      <td>0.0</td>\n",
       "    </tr>\n",
       "    <tr>\n",
       "      <th>S&amp;P 500 Consumer Staples (Sector)</th>\n",
       "      <td>0.000000</td>\n",
       "      <td>0.0</td>\n",
       "    </tr>\n",
       "    <tr>\n",
       "      <th>S&amp;P 500 Health Care (Sector)</th>\n",
       "      <td>0.000000</td>\n",
       "      <td>0.0</td>\n",
       "    </tr>\n",
       "    <tr>\n",
       "      <th>S&amp;P 500 Financials (Sector)</th>\n",
       "      <td>0.000000</td>\n",
       "      <td>0.0</td>\n",
       "    </tr>\n",
       "    <tr>\n",
       "      <th>S&amp;P 500 Information Technology (Sector)</th>\n",
       "      <td>0.000000</td>\n",
       "      <td>0.0</td>\n",
       "    </tr>\n",
       "    <tr>\n",
       "      <th>S&amp;P 500 Telecommunication Services (Sector)</th>\n",
       "      <td>2.469877</td>\n",
       "      <td>100.0</td>\n",
       "    </tr>\n",
       "    <tr>\n",
       "      <th>S&amp;P 500 Utilities (Sector)</th>\n",
       "      <td>0.000000</td>\n",
       "      <td>0.0</td>\n",
       "    </tr>\n",
       "    <tr>\n",
       "      <th>S&amp;P 500 Real Estate (Sector)</th>\n",
       "      <td>0.000000</td>\n",
       "      <td>0.0</td>\n",
       "    </tr>\n",
       "    <tr>\n",
       "      <th>S&amp;P 500 Energy (Sector)</th>\n",
       "      <td>0.000000</td>\n",
       "      <td>0.0</td>\n",
       "    </tr>\n",
       "  </tbody>\n",
       "</table>\n",
       "</div>"
      ],
      "text/plain": [
       "                                             contribution  contribution_as_pct\n",
       "Sector                                                                        \n",
       "S&P 500 Materials (Sector)                       0.000000                  0.0\n",
       "S&P 500 Industrials (Sector)                     0.000000                  0.0\n",
       "S&P 500 Consumer Discretionary (Sector)          0.000000                  0.0\n",
       "S&P 500 Consumer Staples (Sector)                0.000000                  0.0\n",
       "S&P 500 Health Care (Sector)                     0.000000                  0.0\n",
       "S&P 500 Financials (Sector)                      0.000000                  0.0\n",
       "S&P 500 Information Technology (Sector)          0.000000                  0.0\n",
       "S&P 500 Telecommunication Services (Sector)      2.469877                100.0\n",
       "S&P 500 Utilities (Sector)                       0.000000                  0.0\n",
       "S&P 500 Real Estate (Sector)                     0.000000                  0.0\n",
       "S&P 500 Energy (Sector)                          0.000000                  0.0"
      ]
     },
     "metadata": {},
     "output_type": "display_data"
    }
   ],
   "source": [
    "contrib_dataframe = attribution_model.get_portfolio_sector_contributions(start_date, orderbook)\n",
    "display(contrib_dataframe)"
   ]
  },
  {
   "cell_type": "code",
   "execution_count": 5,
   "metadata": {},
   "outputs": [],
   "source": [
    "# contrib_df, sector_df, pf_trades = attribution_model.get_portfolio_sector_contributions(start_date, orderbook)\n"
   ]
  },
  {
   "cell_type": "code",
   "execution_count": 6,
   "metadata": {},
   "outputs": [],
   "source": [
    "# display(contrib_df)\n",
    "# display(sector_df)\n",
    "# display(pf_trades)\n",
    "# print(contrib_df.isna().sum())"
   ]
  },
  {
   "cell_type": "code",
   "execution_count": 7,
   "metadata": {},
   "outputs": [
    {
     "data": {
      "text/html": [
       "<div>\n",
       "<style scoped>\n",
       "    .dataframe tbody tr th:only-of-type {\n",
       "        vertical-align: middle;\n",
       "    }\n",
       "\n",
       "    .dataframe tbody tr th {\n",
       "        vertical-align: top;\n",
       "    }\n",
       "\n",
       "    .dataframe thead th {\n",
       "        text-align: right;\n",
       "    }\n",
       "</style>\n",
       "<table border=\"1\" class=\"dataframe\">\n",
       "  <thead>\n",
       "    <tr style=\"text-align: right;\">\n",
       "      <th></th>\n",
       "      <th>AAPL</th>\n",
       "      <th>GOOGL</th>\n",
       "    </tr>\n",
       "    <tr>\n",
       "      <th>Date</th>\n",
       "      <th></th>\n",
       "      <th></th>\n",
       "    </tr>\n",
       "  </thead>\n",
       "  <tbody>\n",
       "    <tr>\n",
       "      <th>2019-12-31</th>\n",
       "      <td>72.039879</td>\n",
       "      <td>66.969498</td>\n",
       "    </tr>\n",
       "    <tr>\n",
       "      <th>2020-01-02</th>\n",
       "      <td>73.683571</td>\n",
       "      <td>68.433998</td>\n",
       "    </tr>\n",
       "    <tr>\n",
       "      <th>2020-01-03</th>\n",
       "      <td>72.967224</td>\n",
       "      <td>68.075996</td>\n",
       "    </tr>\n",
       "    <tr>\n",
       "      <th>2020-01-06</th>\n",
       "      <td>73.548637</td>\n",
       "      <td>69.890503</td>\n",
       "    </tr>\n",
       "    <tr>\n",
       "      <th>2020-01-07</th>\n",
       "      <td>73.202713</td>\n",
       "      <td>69.755501</td>\n",
       "    </tr>\n",
       "    <tr>\n",
       "      <th>...</th>\n",
       "      <td>...</td>\n",
       "      <td>...</td>\n",
       "    </tr>\n",
       "    <tr>\n",
       "      <th>2022-10-12</th>\n",
       "      <td>138.339996</td>\n",
       "      <td>97.559998</td>\n",
       "    </tr>\n",
       "    <tr>\n",
       "      <th>2022-10-13</th>\n",
       "      <td>142.990005</td>\n",
       "      <td>99.059998</td>\n",
       "    </tr>\n",
       "    <tr>\n",
       "      <th>2022-10-14</th>\n",
       "      <td>138.380005</td>\n",
       "      <td>96.559998</td>\n",
       "    </tr>\n",
       "    <tr>\n",
       "      <th>2022-10-17</th>\n",
       "      <td>142.410004</td>\n",
       "      <td>99.970001</td>\n",
       "    </tr>\n",
       "    <tr>\n",
       "      <th>2022-10-18</th>\n",
       "      <td>143.750000</td>\n",
       "      <td>100.769997</td>\n",
       "    </tr>\n",
       "  </tbody>\n",
       "</table>\n",
       "<p>706 rows × 2 columns</p>\n",
       "</div>"
      ],
      "text/plain": [
       "                  AAPL       GOOGL\n",
       "Date                              \n",
       "2019-12-31   72.039879   66.969498\n",
       "2020-01-02   73.683571   68.433998\n",
       "2020-01-03   72.967224   68.075996\n",
       "2020-01-06   73.548637   69.890503\n",
       "2020-01-07   73.202713   69.755501\n",
       "...                ...         ...\n",
       "2022-10-12  138.339996   97.559998\n",
       "2022-10-13  142.990005   99.059998\n",
       "2022-10-14  138.380005   96.559998\n",
       "2022-10-17  142.410004   99.970001\n",
       "2022-10-18  143.750000  100.769997\n",
       "\n",
       "[706 rows x 2 columns]"
      ]
     },
     "execution_count": 7,
     "metadata": {},
     "output_type": "execute_result"
    }
   ],
   "source": [
    "pd.DataFrame(yf.download(['AAPL','GOOGL'], start='2020-01-01', progress=False)['Adj Close'])"
   ]
  }
 ],
 "metadata": {
  "kernelspec": {
   "display_name": "Python 3.9.13 ('obb')",
   "language": "python",
   "name": "python3"
  },
  "language_info": {
   "codemirror_mode": {
    "name": "ipython",
    "version": 3
   },
   "file_extension": ".py",
   "mimetype": "text/x-python",
   "name": "python",
   "nbconvert_exporter": "python",
   "pygments_lexer": "ipython3",
   "version": "3.9.13"
  },
  "orig_nbformat": 4,
  "vscode": {
   "interpreter": {
    "hash": "34bec1a85496b9fc225f57d11e7e6a61d2ed2f14fe28f30e70ff45f05f7ba5d5"
   }
  }
 },
 "nbformat": 4,
 "nbformat_minor": 2
}
