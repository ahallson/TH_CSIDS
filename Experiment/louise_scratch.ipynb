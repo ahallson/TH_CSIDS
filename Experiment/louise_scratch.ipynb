{
 "cells": [
  {
   "cell_type": "code",
   "execution_count": 1,
   "metadata": {},
   "outputs": [
    {
     "name": "stdout",
     "output_type": "stream",
     "text": [
      "DatetimeIndex(['2015-01-07', '2015-01-08', '2015-01-09', '2015-01-12',\n",
      "               '2015-01-13'],\n",
      "              dtype='datetime64[ns]', name='Date', freq=None)\n",
      "DatetimeIndex(['2015-01-07', '2015-01-08', '2015-01-09', '2015-01-12',\n",
      "               '2015-01-13'],\n",
      "              dtype='datetime64[ns]', name='Date', freq=None)\n",
      "DatetimeIndex(['2015-01-07', '2015-01-08', '2015-01-09', '2015-01-12',\n",
      "               '2015-01-13'],\n",
      "              dtype='datetime64[ns]', name='Date', freq=None)\n",
      "DatetimeIndex(['2015-01-07', '2015-01-08', '2015-01-09', '2015-01-12',\n",
      "               '2015-01-13'],\n",
      "              dtype='datetime64[ns]', name='Date', freq=None)\n",
      "DatetimeIndex(['2015-01-07', '2015-01-08', '2015-01-09', '2015-01-12',\n",
      "               '2015-01-13'],\n",
      "              dtype='datetime64[ns]', name='Date', freq=None)\n",
      "DatetimeIndex(['2015-01-07', '2015-01-08', '2015-01-09', '2015-01-12',\n",
      "               '2015-01-13'],\n",
      "              dtype='datetime64[ns]', name='Date', freq=None)\n",
      "DatetimeIndex(['2015-01-07', '2015-01-08', '2015-01-09', '2015-01-12',\n",
      "               '2015-01-13'],\n",
      "              dtype='datetime64[ns]', name='Date', freq=None)\n",
      "DatetimeIndex(['2015-01-07', '2015-01-08', '2015-01-09', '2015-01-12',\n",
      "               '2015-01-13'],\n",
      "              dtype='datetime64[ns]', name='Date', freq=None)\n",
      "DatetimeIndex(['2015-01-07', '2015-01-08', '2015-01-09', '2015-01-12',\n",
      "               '2015-01-13'],\n",
      "              dtype='datetime64[ns]', name='Date', freq=None)\n",
      "DatetimeIndex(['2015-01-07', '2015-01-08', '2015-01-09', '2015-01-12',\n",
      "               '2015-01-13'],\n",
      "              dtype='datetime64[ns]', name='Date', freq=None)\n"
     ]
    },
    {
     "data": {
      "text/html": [
       "<div>\n",
       "<style scoped>\n",
       "    .dataframe tbody tr th:only-of-type {\n",
       "        vertical-align: middle;\n",
       "    }\n",
       "\n",
       "    .dataframe tbody tr th {\n",
       "        vertical-align: top;\n",
       "    }\n",
       "\n",
       "    .dataframe thead th {\n",
       "        text-align: right;\n",
       "    }\n",
       "</style>\n",
       "<table border=\"1\" class=\"dataframe\">\n",
       "  <thead>\n",
       "    <tr style=\"text-align: right;\">\n",
       "      <th></th>\n",
       "      <th>date</th>\n",
       "      <th>sector_name</th>\n",
       "      <th>Adj Close</th>\n",
       "      <th>weight</th>\n",
       "      <th>return</th>\n",
       "      <th>contribution</th>\n",
       "    </tr>\n",
       "  </thead>\n",
       "  <tbody>\n",
       "  </tbody>\n",
       "</table>\n",
       "</div>"
      ],
      "text/plain": [
       "Empty DataFrame\n",
       "Columns: [date, sector_name, Adj Close, weight, return, contribution]\n",
       "Index: []"
      ]
     },
     "execution_count": 1,
     "metadata": {},
     "output_type": "execute_result"
    }
   ],
   "source": [
    "import pandas as pd\n",
    "import yfinance as yf\n",
    "import numpy as np\n",
    "# Param configuration\n",
    "start_date = \"2015-01-08\"\n",
    "end_date = \"2015-01-15\"\n",
    "\n",
    "# Generate data frame to hold all required information\n",
    "df = pd.DataFrame(columns=[\"date\", \"sector_name\", \"Adj Close\", \"weight\", \"return\", \"contribution\"])\n",
    "\n",
    "from louise_get_data import get_req_data\n",
    "\n",
    "# Load in info\n",
    "sp500_tickers_data = get_req_data(start_date, end_date)\n",
    "\n",
    "# add the sectors + dates + adj close to the dataframe\n",
    "for sector in sp500_tickers_data.keys():\n",
    "    dates = sp500_tickers_data[sector][\"sector_data\"].index\n",
    "    print(dates)\n",
    "\n",
    "df.head()\n"
   ]
  },
  {
   "cell_type": "code",
   "execution_count": 19,
   "metadata": {},
   "outputs": [
    {
     "data": {
      "text/plain": [
       "pandas.core.series.Series"
      ]
     },
     "execution_count": 19,
     "metadata": {},
     "output_type": "execute_result"
    }
   ],
   "source": [
    "type(sp500_tickers_data[\"S&P 500 Consumer Discretionary (Sector)\"][\"sector_data\"])"
   ]
  },
  {
   "cell_type": "code",
   "execution_count": 20,
   "metadata": {},
   "outputs": [
    {
     "data": {
      "text/plain": [
       "560.5"
      ]
     },
     "execution_count": 20,
     "metadata": {},
     "output_type": "execute_result"
    }
   ],
   "source": [
    "sp500_tickers_data[\"S&P 500 Consumer Discretionary (Sector)\"][\"sector_data\"].iloc[0]"
   ]
  },
  {
   "cell_type": "code",
   "execution_count": 25,
   "metadata": {},
   "outputs": [
    {
     "data": {
      "text/plain": [
       "DatetimeIndex(['2015-01-07', '2015-01-08', '2015-01-09', '2015-01-12',\n",
       "               '2015-01-13'],\n",
       "              dtype='datetime64[ns]', name='Date', freq=None)"
      ]
     },
     "execution_count": 25,
     "metadata": {},
     "output_type": "execute_result"
    }
   ],
   "source": [
    "sp500_tickers_data[\"S&P 500 Consumer Discretionary (Sector)\"][\"sector_data\"].index"
   ]
  },
  {
   "cell_type": "code",
   "execution_count": 21,
   "metadata": {},
   "outputs": [
    {
     "data": {
      "text/plain": [
       "{'S&P 500 Materials (Sector)': {'sector_data': Date\n",
       "  2015-01-07    298.519989\n",
       "  2015-01-08    305.600006\n",
       "  2015-01-09    304.070007\n",
       "  2015-01-12    303.130005\n",
       "  2015-01-13    299.609985\n",
       "  Name: Adj Close, dtype: float64},\n",
       " 'S&P 500 Industrials (Sector)': {'sector_data': Date\n",
       "  2015-01-07    471.709991\n",
       "  2015-01-08    481.109985\n",
       "  2015-01-09    475.869995\n",
       "  2015-01-12    472.730011\n",
       "  2015-01-13    471.809998\n",
       "  Name: Adj Close, dtype: float64},\n",
       " 'S&P 500 Consumer Discretionary (Sector)': {'sector_data': Date\n",
       "  2015-01-07    560.500000\n",
       "  2015-01-08    568.830017\n",
       "  2015-01-09    562.340027\n",
       "  2015-01-12    559.679993\n",
       "  2015-01-13    559.020020\n",
       "  Name: Adj Close, dtype: float64},\n",
       " 'S&P 500 Consumer Staples (Sector)': {'sector_data': Date\n",
       "  2015-01-07    502.549988\n",
       "  2015-01-08    510.149994\n",
       "  2015-01-09    506.049988\n",
       "  2015-01-12    504.309998\n",
       "  2015-01-13    504.239990\n",
       "  Name: Adj Close, dtype: float64},\n",
       " 'S&P 500 Health Care (Sector)': {'sector_data': Date\n",
       "  2015-01-07    806.000000\n",
       "  2015-01-08    819.859985\n",
       "  2015-01-09    813.229980\n",
       "  2015-01-12    812.679993\n",
       "  2015-01-13    808.729980\n",
       "  Name: Adj Close, dtype: float64},\n",
       " 'S&P 500 Financials (Sector)': {'sector_data': Date\n",
       "  2015-01-07    324.980011\n",
       "  2015-01-08    329.769989\n",
       "  2015-01-09    325.359985\n",
       "  2015-01-12    322.600006\n",
       "  2015-01-13    321.510010\n",
       "  Name: Adj Close, dtype: float64},\n",
       " 'S&P 500 Information Technology (Sector)': {'sector_data': Date\n",
       "  2015-01-07    676.219971\n",
       "  2015-01-08    691.580017\n",
       "  2015-01-09    689.640015\n",
       "  2015-01-12    680.369995\n",
       "  2015-01-13    679.929993\n",
       "  Name: Adj Close, dtype: float64},\n",
       " 'S&P 500 Telecommunication Services (Sector)': {'sector_data': Date\n",
       "  2015-01-07    150.279999\n",
       "  2015-01-08    152.600006\n",
       "  2015-01-09    151.589996\n",
       "  2015-01-12    152.440002\n",
       "  2015-01-13    152.619995\n",
       "  Name: Adj Close, dtype: float64},\n",
       " 'S&P 500 Utilities (Sector)': {'sector_data': Date\n",
       "  2015-01-07    240.970001\n",
       "  2015-01-08    242.669998\n",
       "  2015-01-09    241.089996\n",
       "  2015-01-12    240.449997\n",
       "  2015-01-13    241.210007\n",
       "  Name: Adj Close, dtype: float64},\n",
       " 'S&P 500 Real Estate (Sector)': {'sector_data': Date\n",
       "  2015-01-07    195.850006\n",
       "  2015-01-08    196.839996\n",
       "  2015-01-09    197.130005\n",
       "  2015-01-12    198.130005\n",
       "  2015-01-13    197.559998\n",
       "  Name: Adj Close, dtype: float64}}"
      ]
     },
     "execution_count": 21,
     "metadata": {},
     "output_type": "execute_result"
    }
   ],
   "source": [
    "sp500_tickers_data"
   ]
  },
  {
   "cell_type": "code",
   "execution_count": 22,
   "metadata": {},
   "outputs": [],
   "source": [
    "# Access sector name\n",
    "\n",
    "# Data pipeline - building in the data required \n",
    "\n",
    "# fetch the sectors required - what layer in the json do we need \n",
    "\n",
    "# data structure where we can store the return for the day for each structure \n",
    "                   \n",
    "# Desired output to the user \n",
    "# For time period x - x\n",
    "# S&P500 -- 45% Return\n",
    "\n",
    "# Attribution\n",
    "# Sector 1: 16% \n",
    "# Sector 2: -12%\n",
    "# Sector 3: 8%"
   ]
  }
 ],
 "metadata": {
  "kernelspec": {
   "display_name": "Python 3.8.5 64-bit ('base': conda)",
   "language": "python",
   "name": "python3"
  },
  "language_info": {
   "codemirror_mode": {
    "name": "ipython",
    "version": 3
   },
   "file_extension": ".py",
   "mimetype": "text/x-python",
   "name": "python",
   "nbconvert_exporter": "python",
   "pygments_lexer": "ipython3",
   "version": "3.8.5"
  },
  "orig_nbformat": 4,
  "vscode": {
   "interpreter": {
    "hash": "40d3a090f54c6569ab1632332b64b2c03c39dcf918b08424e98f38b5ae0af88f"
   }
  }
 },
 "nbformat": 4,
 "nbformat_minor": 2
}
